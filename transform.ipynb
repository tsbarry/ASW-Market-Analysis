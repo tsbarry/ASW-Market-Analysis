{
 "cells": [
  {
   "cell_type": "code",
   "execution_count": 1,
   "metadata": {},
   "outputs": [],
   "source": [
    "import pandas as pd \n",
    "import numpy as np\n",
    "# Read csv file\n",
    "tot_merge = pd.read_csv('data/joined_data.csv') \n",
    "\n",
    "#dropping null values in the description_tokens column and filling the null values from work_from_home to false \n",
    "tot_merge['work_from_home'] = tot_merge['work_from_home'].fillna(value = False)\n",
    "tot_merge['work_from_home'].isna().sum()\n",
    "\n",
    "droped_df = tot_merge.dropna(subset= ['description_tokens']) \n",
    "droped_df.isna().sum()\n",
    "droped_df\n",
    "\n",
    "from sklearn.preprocessing import MultiLabelBinarizer\n",
    "from ast import literal_eval, NodeTransformer \n",
    " \n",
    "mlb = MultiLabelBinarizer()\n",
    "\n",
    "# convert description_tokens into col of lists\n",
    "droped_df[\"description_tokens\"]= droped_df[\"description_tokens\"].apply(literal_eval)\n",
    "\n",
    "# encode each skill as a unique column\n",
    "binary_columns = mlb.fit_transform(droped_df[\"description_tokens\"].tolist()) \n",
    "encode = droped_df.join(pd.DataFrame(binary_columns, columns=mlb.classes_, index=droped_df.index))\n",
    "encode\n",
    "\n",
    "# save dataframe into a csv file \n",
    "encode.to_csv('data/encoded_data.csv', index = False)\n",
    "\n",
    "# drop null values from salary_standardized column \n",
    "Sal_df= encode.dropna(subset= ['salary_standardized'])\n",
    "\n",
    "# convert the clean data into a csv file\n",
    "Sal_df.to_csv('data/clean_data.csv', index = False) "
   ]
  }
 ],
 "metadata": {
  "kernelspec": {
   "display_name": "Python 3.10.7 64-bit",
   "language": "python",
   "name": "python3"
  },
  "language_info": {
   "codemirror_mode": {
    "name": "ipython",
    "version": 3
   },
   "file_extension": ".py",
   "mimetype": "text/x-python",
   "name": "python",
   "nbconvert_exporter": "python",
   "pygments_lexer": "ipython3",
   "version": "3.10.7"
  },
  "orig_nbformat": 4,
  "vscode": {
   "interpreter": {
    "hash": "aee8b7b246df8f9039afb4144a1f6fd8d2ca17a180786b69acc140d282b71a49"
   }
  }
 },
 "nbformat": 4,
 "nbformat_minor": 2
}
